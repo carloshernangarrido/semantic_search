{
 "cells": [
  {
   "cell_type": "markdown",
   "metadata": {},
   "source": [
    "# Packages"
   ]
  },
  {
   "cell_type": "code",
   "execution_count": 241,
   "metadata": {},
   "outputs": [],
   "source": [
    "from sentence_transformers import SentenceTransformer\n",
    "import numpy as np \n",
    "import itertools\n"
   ]
  },
  {
   "cell_type": "markdown",
   "metadata": {},
   "source": [
    "# Load pre-trained sentence trasformer"
   ]
  },
  {
   "cell_type": "code",
   "execution_count": 242,
   "metadata": {},
   "outputs": [],
   "source": [
    "model = SentenceTransformer('hiiamsid/sentence_similarity_spanish_es')"
   ]
  },
  {
   "cell_type": "markdown",
   "metadata": {},
   "source": [
    "# Test"
   ]
  },
  {
   "cell_type": "code",
   "execution_count": 243,
   "metadata": {},
   "outputs": [],
   "source": [
    "def cosine_similarity(u, v):\n",
    "    return (u @ v) / (np.linalg.norm(u) * np.linalg.norm(v))"
   ]
  },
  {
   "cell_type": "code",
   "execution_count": 244,
   "metadata": {},
   "outputs": [
    {
     "data": {
      "text/plain": [
       "-0.9999999999999998"
      ]
     },
     "execution_count": 244,
     "metadata": {},
     "output_type": "execute_result"
    }
   ],
   "source": [
    "cosine_similarity(np.array([1, 1]), np.array([-10, -10]))"
   ]
  },
  {
   "cell_type": "code",
   "execution_count": 245,
   "metadata": {},
   "outputs": [],
   "source": [
    "question = '' # '¿Confirma o cancela su asistencia al turno? - '\n",
    "sentences = ['suave y dulce',\n",
    "             'frío, suave y dulce',\n",
    "             'frío pero refrescante',\n",
    "             'caliente para un resfrío',\n",
    "             'amargo y frío',\n",
    "             'refrescante',\n",
    "             'palta pisada',\n",
    "             'dulce de leche',\n",
    "             'equipo de futbol',\n",
    "             'broma de futbol']\n",
    "\n",
    "q_sentences = [(question+s) for s in sentences]\n",
    "\n",
    "options = ['cerveza',\n",
    "           'caldo',\n",
    "           'helado de frutilla',\n",
    "           'aguacate',\n",
    "           'vino',\n",
    "           'river',\n",
    "           'riber',\n",
    "           'boca',\n",
    "           'boca juniors',\n",
    "           'independiente']\n",
    "q_options = [(question+o) for o in options]"
   ]
  },
  {
   "cell_type": "code",
   "execution_count": 246,
   "metadata": {},
   "outputs": [
    {
     "name": "stdout",
     "output_type": "stream",
     "text": [
      "suave y dulce --- helado de frutilla\n",
      "frío, suave y dulce --- helado de frutilla\n",
      "frío pero refrescante --- aguacate\n",
      "caliente para un resfrío --- caldo\n",
      "amargo y frío --- helado de frutilla\n",
      "refrescante --- cerveza\n",
      "palta pisada --- aguacate\n",
      "dulce de leche --- helado de frutilla\n",
      "equipo de futbol --- independiente\n",
      "broma de futbol --- riber\n"
     ]
    }
   ],
   "source": [
    "sentences_embeddings = [(s, e) for s, e in zip(q_sentences, model.encode(q_sentences, convert_to_numpy=True))]\n",
    "options_embeddings = [(s, e) for s, e in zip(q_options, model.encode(q_options, convert_to_numpy=True))]\n",
    "\n",
    "ratio_th = 0.7\n",
    "\n",
    "for s_e in sentences_embeddings:\n",
    "    best_simil = -np.inf\n",
    "    worst_simil = np.inf\n",
    "    for o_e in options_embeddings:\n",
    "        simil = cosine_similarity(s_e[1], o_e[1])\n",
    "        if simil > best_simil:\n",
    "            best_simil = simil\n",
    "            best_option = o_e[0]\n",
    "        if simil < worst_simil:\n",
    "            worst_simil = simil\n",
    "    if best_simil > worst_simil/ratio_th:\n",
    "        print(s_e[0], '---', best_option)\n",
    "    else:\n",
    "        print(s_e[0], ' *** ')\n",
    "\n",
    "# print('***')\n",
    "# for sentence, option in itertools.product(sentences_embeddings, options_embeddings):\n",
    "#     print(cosine_similarity(sentence[1], option[1]), sentence[0], '==', option[0])\n"
   ]
  }
 ],
 "metadata": {
  "kernelspec": {
   "display_name": "nlpvenv",
   "language": "python",
   "name": "python3"
  },
  "language_info": {
   "codemirror_mode": {
    "name": "ipython",
    "version": 3
   },
   "file_extension": ".py",
   "mimetype": "text/x-python",
   "name": "python",
   "nbconvert_exporter": "python",
   "pygments_lexer": "ipython3",
   "version": "3.11.1"
  }
 },
 "nbformat": 4,
 "nbformat_minor": 2
}
