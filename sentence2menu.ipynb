{
 "cells": [
  {
   "cell_type": "markdown",
   "metadata": {},
   "source": [
    "# Packages"
   ]
  },
  {
   "cell_type": "code",
   "execution_count": 73,
   "metadata": {},
   "outputs": [],
   "source": [
    "from sentence_transformers import SentenceTransformer\n",
    "import numpy as np \n",
    "import itertools\n"
   ]
  },
  {
   "cell_type": "markdown",
   "metadata": {},
   "source": [
    "# Load pre-trained sentence trasformer"
   ]
  },
  {
   "cell_type": "code",
   "execution_count": 74,
   "metadata": {},
   "outputs": [],
   "source": [
    "model = SentenceTransformer('hiiamsid/sentence_similarity_spanish_es')"
   ]
  },
  {
   "cell_type": "markdown",
   "metadata": {},
   "source": [
    "# Test"
   ]
  },
  {
   "cell_type": "code",
   "execution_count": 75,
   "metadata": {},
   "outputs": [],
   "source": [
    "def cosine_similarity(u, v):\n",
    "    return (u @ v) / (np.linalg.norm(u) * np.linalg.norm(v))"
   ]
  },
  {
   "cell_type": "code",
   "execution_count": 76,
   "metadata": {},
   "outputs": [
    {
     "data": {
      "text/plain": [
       "-0.9999999999999998"
      ]
     },
     "execution_count": 76,
     "metadata": {},
     "output_type": "execute_result"
    }
   ],
   "source": [
    "cosine_similarity(np.array([1, 1]), np.array([-10, -10]))"
   ]
  },
  {
   "cell_type": "code",
   "execution_count": 77,
   "metadata": {},
   "outputs": [],
   "source": [
    "question = '' # '¿Confirma o cancela su asistencia al turno? - '\n",
    "sentences = ['caliente, suave y dulce',\n",
    "             'frío, suave y dulce',\n",
    "             'ácido y frío pero refrescante',\n",
    "             'ácido y caliente para un resfrío',\n",
    "             'amargo y frío',\n",
    "             'refrescante',\n",
    "             'palta pisada',\n",
    "             'dulce de leche']\n",
    "\n",
    "q_sentences = [(question+s) for s in sentences]\n",
    "\n",
    "options = ['cerveza',\n",
    "           'caldo',\n",
    "           'helado de frutilla',\n",
    "           'aguacate',\n",
    "           'vino']\n",
    "q_options = [(question+o) for o in options]"
   ]
  },
  {
   "cell_type": "code",
   "execution_count": 78,
   "metadata": {},
   "outputs": [
    {
     "name": "stdout",
     "output_type": "stream",
     "text": [
      "caliente, suave y dulce --- helado de frutilla\n",
      "frío, suave y dulce --- helado de frutilla\n",
      "ácido y frío pero refrescante  *** \n",
      "ácido y caliente para un resfrío --- caldo\n",
      "amargo y frío --- helado de frutilla\n",
      "refrescante --- cerveza\n",
      "palta pisada --- aguacate\n",
      "dulce de leche --- helado de frutilla\n",
      "***\n",
      "0.18998058 caliente, suave y dulce == cerveza\n",
      "0.2766103 caliente, suave y dulce == caldo\n",
      "0.3128675 caliente, suave y dulce == helado de frutilla\n",
      "0.27344927 caliente, suave y dulce == aguacate\n",
      "0.1351167 caliente, suave y dulce == vino\n",
      "0.16659042 frío, suave y dulce == cerveza\n",
      "0.319178 frío, suave y dulce == caldo\n",
      "0.3284099 frío, suave y dulce == helado de frutilla\n",
      "0.25997823 frío, suave y dulce == aguacate\n",
      "0.17074615 frío, suave y dulce == vino\n",
      "0.3786204 ácido y frío pero refrescante == cerveza\n",
      "0.37283695 ácido y frío pero refrescante == caldo\n",
      "0.3837132 ácido y frío pero refrescante == helado de frutilla\n",
      "0.35160866 ácido y frío pero refrescante == aguacate\n",
      "0.37666374 ácido y frío pero refrescante == vino\n",
      "0.3393881 ácido y caliente para un resfrío == cerveza\n",
      "0.3630443 ácido y caliente para un resfrío == caldo\n",
      "0.24972278 ácido y caliente para un resfrío == helado de frutilla\n",
      "0.2791001 ácido y caliente para un resfrío == aguacate\n",
      "0.27417356 ácido y caliente para un resfrío == vino\n",
      "0.25152668 amargo y frío == cerveza\n",
      "0.28257576 amargo y frío == caldo\n",
      "0.42484635 amargo y frío == helado de frutilla\n",
      "0.3192605 amargo y frío == aguacate\n",
      "0.3370486 amargo y frío == vino\n",
      "0.4610164 refrescante == cerveza\n",
      "0.2960566 refrescante == caldo\n",
      "0.4240549 refrescante == helado de frutilla\n",
      "0.3849466 refrescante == aguacate\n",
      "0.40378648 refrescante == vino\n",
      "0.20464353 palta pisada == cerveza\n",
      "0.1295282 palta pisada == caldo\n",
      "0.28232372 palta pisada == helado de frutilla\n",
      "0.51341033 palta pisada == aguacate\n",
      "0.30388525 palta pisada == vino\n",
      "0.37955874 dulce de leche == cerveza\n",
      "0.34582236 dulce de leche == caldo\n",
      "0.63224924 dulce de leche == helado de frutilla\n",
      "0.28407842 dulce de leche == aguacate\n",
      "0.3023934 dulce de leche == vino\n"
     ]
    }
   ],
   "source": [
    "sentences_embeddings = [(s, e) for s, e in zip(q_sentences, model.encode(q_sentences, convert_to_numpy=True))]\n",
    "options_embeddings = [(s, e) for s, e in zip(q_options, model.encode(q_options, convert_to_numpy=True))]\n",
    "\n",
    "ratio_th = 0.7\n",
    "\n",
    "for s_e in sentences_embeddings:\n",
    "    best_simil = -np.inf\n",
    "    worst_simil = np.inf\n",
    "    for o_e in options_embeddings:\n",
    "        simil = cosine_similarity(s_e[1], o_e[1])\n",
    "        if simil > best_simil:\n",
    "            best_simil = simil\n",
    "            best_option = o_e[0]\n",
    "        if simil < worst_simil:\n",
    "            worst_simil = simil\n",
    "    if best_simil > worst_simil/ratio_th:\n",
    "        print(s_e[0], '---', best_option)\n",
    "    else:\n",
    "        print(s_e[0], ' *** ')\n",
    "\n",
    "print('***')\n",
    "for sentence, option in itertools.product(sentences_embeddings, options_embeddings):\n",
    "    print(cosine_similarity(sentence[1], option[1]), sentence[0], '==', option[0])\n"
   ]
  }
 ],
 "metadata": {
  "kernelspec": {
   "display_name": "nlpvenv",
   "language": "python",
   "name": "python3"
  },
  "language_info": {
   "codemirror_mode": {
    "name": "ipython",
    "version": 3
   },
   "file_extension": ".py",
   "mimetype": "text/x-python",
   "name": "python",
   "nbconvert_exporter": "python",
   "pygments_lexer": "ipython3",
   "version": "3.11.1"
  }
 },
 "nbformat": 4,
 "nbformat_minor": 2
}
